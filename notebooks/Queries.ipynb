{
 "cells": [
  {
   "cell_type": "markdown",
   "metadata": {},
   "source": [
    "1- How many tennis players are included in the dataset?"
   ]
  },
  {
   "cell_type": "code",
   "execution_count": 33,
   "metadata": {},
   "outputs": [
    {
     "name": "stdout",
     "output_type": "stream",
     "text": [
      "Total unique tennis players: 2352\n"
     ]
    }
   ],
   "source": [
    "import pandas as pd\n",
    "MatchHomeTeamInfo = pd.read_csv(r\"E:\\Data Analysis Course\\Data analyse\\tennis_data_analysis\\data\\raw\\MatchHomeTeamInfo.csv\")\n",
    "MatchAwayTeamInfo = pd.read_csv(r\"E:\\Data Analysis Course\\Data analyse\\tennis_data_analysis\\data\\raw\\MatchAwayTeamInfo.csv\")\n",
    "\n",
    "home_players = MatchHomeTeamInfo['player_id']\n",
    "away_players = MatchAwayTeamInfo['player_id']\n",
    "all_players = pd.concat([home_players, away_players]).unique()\n",
    "num_unique_players = len(all_players)\n",
    "print(f'Total unique tennis players: {num_unique_players}')"
   ]
  },
  {
   "cell_type": "markdown",
   "metadata": {},
   "source": [
    "2. What is the average height of the players?"
   ]
  },
  {
   "cell_type": "code",
   "execution_count": 2,
   "metadata": {},
   "outputs": [
    {
     "name": "stdout",
     "output_type": "stream",
     "text": [
      "The average height of the players is: 1.82 m\n"
     ]
    }
   ],
   "source": [
    "# Combine player info from both tables\n",
    "players_info = pd.concat([MatchHomeTeamInfo[['player_id', 'height']], MatchAwayTeamInfo[['player_id', 'height']]])\n",
    "\n",
    "# Remove duplicate players\n",
    "unique_players = players_info.drop_duplicates(subset='player_id')\n",
    "\n",
    "# Calculate average height\n",
    "average_height = unique_players['height'].mean()\n",
    "\n",
    "print(f'The average height of the players is: {average_height:.2f} m')\n",
    "\n",
    "# fillna#########"
   ]
  },
  {
   "cell_type": "markdown",
   "metadata": {},
   "source": [
    "3. Which player has the highest number of wins?"
   ]
  },
  {
   "cell_type": "code",
   "execution_count": 3,
   "metadata": {},
   "outputs": [
    {
     "name": "stdout",
     "output_type": "stream",
     "text": [
      "Player with the highest number of wins: 253356.0\n",
      "Number of wins: 17\n"
     ]
    }
   ],
   "source": [
    "MatchEventInfo = pd.read_csv(r\"E:\\Data Analysis Course\\Data analyse\\tennis_data_analysis\\data\\raw\\MatchEventInfo.csv\")\n",
    "MatchEventInfo.head(5)\n",
    "\n",
    "# Merge MatchEventInfo with MatchHomeTeamInfo and MatchAwayTeamInfo to get player IDs\n",
    "merged_df = MatchEventInfo[['match_id', 'winner_code']].merge(MatchHomeTeamInfo[['match_id', 'player_id']], on='match_id', suffixes=('', '_home'))\n",
    "merged_df = merged_df.merge(MatchAwayTeamInfo[['match_id', 'player_id']], on='match_id', suffixes=('', '_away')).drop_duplicates(subset=\"match_id\")\n",
    "merged_df.head(5)\n",
    "\n",
    "# Map winner_code to actual player_id\n",
    "merged_df['winner_id'] = merged_df.apply(\n",
    "    lambda row: row['player_id'] if row['winner_code'] == 1.0 else row['player_id_away'], \n",
    "    axis=1\n",
    ")\n",
    "\n",
    "# Count the number of wins for each player\n",
    "win_counts = merged_df['winner_id'].value_counts()\n",
    "\n",
    "# Find the player with the highest number of wins\n",
    "top_player_id = win_counts.idxmax()\n",
    "top_player_wins = win_counts.max()\n",
    "\n",
    "print(f'Player with the highest number of wins: {top_player_id}')\n",
    "print(f'Number of wins: {top_player_wins}')"
   ]
  },
  {
   "cell_type": "markdown",
   "metadata": {},
   "source": [
    "4. What is the longest match recorded in terms of duration?"
   ]
  },
  {
   "cell_type": "code",
   "execution_count": 4,
   "metadata": {},
   "outputs": [
    {
     "name": "stdout",
     "output_type": "stream",
     "text": [
      "Longest match recorded in terms of duration:\n",
      "Match ID: 12346747.0\n",
      "Duration: 171153.0\n"
     ]
    }
   ],
   "source": [
    "MatchTimeInfo = pd.read_csv(r\"E:\\Data Analysis Course\\Data analyse\\tennis_data_analysis\\data\\raw\\MatchTimeInfo.csv\")\n",
    "MatchTimeInfo.head(5)\n",
    "\n",
    "# Calculate the total duration of each match by summing the periods\n",
    "MatchTimeInfo['total_duration'] = MatchTimeInfo[['period_1', 'period_2', 'period_3', 'period_4', 'period_5']].sum(axis=1)\n",
    "\n",
    "# Find the match with the longest duration\n",
    "longest_match = MatchTimeInfo.loc[MatchTimeInfo['total_duration'].idxmax()]\n",
    "\n",
    "print(\"Longest match recorded in terms of duration:\")\n",
    "print(f\"Match ID: {longest_match['match_id']}\")\n",
    "print(f\"Duration: {longest_match['total_duration']}\")\n",
    "\n"
   ]
  },
  {
   "cell_type": "markdown",
   "metadata": {},
   "source": [
    "6. Which country has produced the most successful tennis players?"
   ]
  },
  {
   "cell_type": "code",
   "execution_count": 5,
   "metadata": {},
   "outputs": [
    {
     "name": "stdout",
     "output_type": "stream",
     "text": [
      "The country that has produced the most successful tennis players based on total prize money earned is Serbia with total prize money of $2864742758.0.\n"
     ]
    }
   ],
   "source": [
    "# Combine MatchHomeTeamInfo and MatchAwayTeamInfo to aggregate data\n",
    "combined_teams = pd.concat([MatchHomeTeamInfo, MatchAwayTeamInfo], ignore_index=True)\n",
    "\n",
    "# Group by country and sum the total prize money\n",
    "total_prize_per_country = combined_teams.groupby('country')['total_prize'].sum()\n",
    "\n",
    "# Find the country with the highest total prize money earned\n",
    "most_successful_country = total_prize_per_country.idxmax()\n",
    "max_total_prize = total_prize_per_country.max()\n",
    "\n",
    "# Print the result\n",
    "print(f\"The country that has produced the most successful tennis players based on total prize money earned is {most_successful_country} with total prize money of ${max_total_prize}.\")"
   ]
  },
  {
   "cell_type": "markdown",
   "metadata": {},
   "source": [
    "8. Is there a difference in the number of double faults based on gender?"
   ]
  },
  {
   "cell_type": "code",
   "execution_count": 6,
   "metadata": {},
   "outputs": [
    {
     "name": "stdout",
     "output_type": "stream",
     "text": [
      "gender\n",
      "F    2.155839\n",
      "M    1.607963\n",
      "dtype: float64\n"
     ]
    }
   ],
   "source": [
    "PeriodInfo = pd.read_csv(r\"E:\\Data Analysis Course\\Data analyse\\tennis_data_analysis\\data\\raw\\PeriodInfo.csv\")\n",
    "\n",
    "# Filter rows where the statistic_name is \"double_faults\"\n",
    "double_faults_data = PeriodInfo[PeriodInfo['statistic_name'] == 'double_faults']\n",
    "\n",
    "# Merge with MatchHomeTeamInfo to get home team gender and double faults\n",
    "home_merged = pd.merge(double_faults_data, MatchHomeTeamInfo[['match_id', 'gender']], on='match_id')\n",
    "home_double_faults = home_merged[['gender', 'home_stat']].rename(columns={'home_stat': 'double_faults'})\n",
    "\n",
    "# Merge with MatchAwayTeamInfo to get away team gender and double faults\n",
    "away_merged = pd.merge(double_faults_data, MatchAwayTeamInfo[['match_id', 'gender']], on='match_id')\n",
    "away_double_faults = away_merged[['gender', 'away_stat']].rename(columns={'away_stat': 'double_faults'})\n",
    "\n",
    "# Combine home and away double faults\n",
    "combined_double_faults = pd.concat([home_double_faults, away_double_faults])\n",
    "\n",
    "# Convert double_faults to numeric\n",
    "combined_double_faults['double_faults'] = pd.to_numeric(combined_double_faults['double_faults'])\n",
    "\n",
    "# Group by gender and calculate the total number of double faults\n",
    "double_faults_by_gender = combined_double_faults.groupby('gender')['double_faults'].sum()\n",
    "\n",
    "# Calculate total number of females and males\n",
    "gender_counts = combined_double_faults['gender'].value_counts()\n",
    "\n",
    "# Calculate the ratio of double faults to the total count for each gender\n",
    "ratios = double_faults_by_gender / gender_counts\n",
    "\n",
    "print(ratios)\n"
   ]
  },
  {
   "cell_type": "markdown",
   "metadata": {},
   "source": [
    "10. Is there a correlation between a player's height and their ranking?"
   ]
  },
  {
   "cell_type": "code",
   "execution_count": 68,
   "metadata": {},
   "outputs": [
    {
     "name": "stdout",
     "output_type": "stream",
     "text": [
      "Correlation coefficient between height and ranking: 0.11243439094485426 \n",
      "This value indicates a very weak positive correlation between these two variables\n"
     ]
    }
   ],
   "source": [
    "all_players = pd.concat([MatchHomeTeamInfo, MatchAwayTeamInfo])\n",
    "\n",
    "# Drop duplicates and keep the last record of each match_id\n",
    "all_players_drop_dup = all_players.drop_duplicates(subset=['match_id','name'], keep='last')\n",
    "\n",
    "correlation_coeff = all_players_drop_dup['height'].corr(all_players_drop_dup['current_rank'])\n",
    "\n",
    "print(\"Correlation coefficient between height and ranking:\", correlation_coeff, \"\\nThis value indicates a very weak positive correlation between these two variables\")\n"
   ]
  },
  {
   "cell_type": "markdown",
   "metadata": {},
   "source": [
    "12. What is the average number of games per set in men's matches compared to women's matches?"
   ]
  },
  {
   "cell_type": "code",
   "execution_count": 144,
   "metadata": {},
   "outputs": [
    {
     "name": "stdout",
     "output_type": "stream",
     "text": [
      "Average number of games per set in men's matches: 9.213686958911639\n",
      "Average number of games per set in women's matches: 8.931094383323682\n"
     ]
    }
   ],
   "source": [
    "GameInfo = pd.read_csv(r\"E:\\Data Analysis Course\\Data analyse\\tennis_data_analysis\\data\\raw\\GameInfo.csv\")\n",
    "\n",
    "GameInfo_with_gender = pd.merge(GameInfo, all_players, on='match_id')\n",
    "\n",
    "# Drop duplicates and keep the last record based on set_id and game_id\n",
    "GameInfo_with_gender_cleaned = GameInfo_with_gender.sort_values(by=['match_id', 'set_id', 'game_id']).drop_duplicates(subset=['match_id', 'set_id'], keep='last')\n",
    "\n",
    "GameInfo_with_gender_cleaned=GameInfo_with_gender_cleaned[[\"match_id\" ,\"game_id\" , \"gender\" ]]\n",
    "GameInfo_Male_cleaned = GameInfo_with_gender_cleaned[GameInfo_with_gender_cleaned['gender'] == 'M']\n",
    "GameInfo_Female_cleaned = GameInfo_with_gender_cleaned[GameInfo_with_gender_cleaned['gender'] == 'F']\n",
    "avg_games_per_set_men = GameInfo_Male_cleaned[\"game_id\"].mean()\n",
    "avg_games_per_set_women = GameInfo_Female_cleaned[\"game_id\"].mean()\n",
    "\n",
    "# Print the results\n",
    "print(f\"Average number of games per set in men's matches: {avg_games_per_set_men}\")\n",
    "print(f\"Average number of games per set in women's matches: {avg_games_per_set_women}\")"
   ]
  }
 ],
 "metadata": {
  "kernelspec": {
   "display_name": "Python 3",
   "language": "python",
   "name": "python3"
  },
  "language_info": {
   "codemirror_mode": {
    "name": "ipython",
    "version": 3
   },
   "file_extension": ".py",
   "mimetype": "text/x-python",
   "name": "python",
   "nbconvert_exporter": "python",
   "pygments_lexer": "ipython3",
   "version": "3.12.3"
  }
 },
 "nbformat": 4,
 "nbformat_minor": 2
}
