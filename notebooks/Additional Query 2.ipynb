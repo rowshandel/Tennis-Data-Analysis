{
 "cells": [
  {
   "cell_type": "markdown",
   "metadata": {},
   "source": [
    "# Query 2: Which player had the highest number of aces ?"
   ]
  },
  {
   "cell_type": "code",
   "execution_count": 1,
   "metadata": {},
   "outputs": [
    {
     "name": "stdout",
     "output_type": "stream",
     "text": [
      "Match with the highest number of aces by a single player: Match ID 12276774\n",
      "The number of aces: 9\n",
      "Player Name: Schoolkate T.\n"
     ]
    }
   ],
   "source": [
    "import pandas as pd\n",
    "MatchAwayTeamInfo = pd.read_csv(r\"E:\\Data Analysis Course\\Data analyse\\tennis_data_analysis\\data\\raw\\MatchAwayTeamInfo.csv\")\n",
    "MatchHomeTeamInfo = pd.read_csv(r\"E:\\Data Analysis Course\\Data analyse\\tennis_data_analysis\\data\\raw\\MatchHomeTeamInfo.csv\")\n",
    "PeriodInfo = pd.read_csv(r\"E:\\Data Analysis Course\\Data analyse\\tennis_data_analysis\\data\\raw\\PeriodInfo.csv\")\n",
    "max_aces_match = PeriodInfo[PeriodInfo['statistic_name'] == 'aces'].set_index('match_id')[['home_stat', 'away_stat']].max(axis=1).idxmax()\n",
    "max_aces = PeriodInfo[PeriodInfo['statistic_name'] == 'aces'].set_index('match_id')[['home_stat', 'away_stat']].max(axis=1).max()\n",
    "print(f\"Match with the highest number of aces by a single player: Match ID {max_aces_match}\")\n",
    "print(f\"The number of aces: {max_aces}\")\n",
    "pleyer_name = MatchHomeTeamInfo[MatchHomeTeamInfo['match_id'] == 12276774]['name'].values\n",
    "\n",
    "print(f\"Player Name: {pleyer_name[0]}\")\n"
   ]
  }
 ],
 "metadata": {
  "kernelspec": {
   "display_name": "Python 3",
   "language": "python",
   "name": "python3"
  },
  "language_info": {
   "codemirror_mode": {
    "name": "ipython",
    "version": 3
   },
   "file_extension": ".py",
   "mimetype": "text/x-python",
   "name": "python",
   "nbconvert_exporter": "python",
   "pygments_lexer": "ipython3",
   "version": "3.12.3"
  }
 },
 "nbformat": 4,
 "nbformat_minor": 2
}
