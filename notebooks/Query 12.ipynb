{
 "cells": [
  {
   "cell_type": "markdown",
   "metadata": {},
   "source": [
    "# 12. What is the average number of games per set in men's matches compared to women's matches?"
   ]
  },
  {
   "cell_type": "code",
   "execution_count": 3,
   "metadata": {},
   "outputs": [
    {
     "name": "stdout",
     "output_type": "stream",
     "text": [
      "Average number of games per set in men's matches: 9.213686958911639\n",
      "Average number of games per set in women's matches: 8.931094383323682\n"
     ]
    }
   ],
   "source": [
    "\n",
    "import pandas as pd\n",
    "MatchHomeTeamInfo = pd.read_csv(r\"E:\\Data Analysis Course\\Data analyse\\tennis_data_analysis\\data\\raw\\MatchHomeTeamInfo.csv\")\n",
    "MatchAwayTeamInfo = pd.read_csv(r\"E:\\Data Analysis Course\\Data analyse\\tennis_data_analysis\\data\\raw\\MatchAwayTeamInfo.csv\")\n",
    "all_players = pd.concat([MatchHomeTeamInfo, MatchAwayTeamInfo])\n",
    "GameInfo = pd.read_csv(r\"E:\\Data Analysis Course\\Data analyse\\tennis_data_analysis\\data\\raw\\GameInfo.csv\")\n",
    "\n",
    "GameInfo_with_gender = pd.merge(GameInfo, all_players, on='match_id')\n",
    "\n",
    "# Drop duplicates and keep the last record based on set_id and game_id\n",
    "GameInfo_with_gender_cleaned = GameInfo_with_gender.sort_values(by=['match_id', 'set_id', 'game_id']).drop_duplicates(subset=['match_id', 'set_id'], keep='last')\n",
    "\n",
    "GameInfo_with_gender_cleaned=GameInfo_with_gender_cleaned[[\"match_id\" ,\"game_id\" , \"gender\" ]]\n",
    "GameInfo_Male_cleaned = GameInfo_with_gender_cleaned[GameInfo_with_gender_cleaned['gender'] == 'M']\n",
    "GameInfo_Female_cleaned = GameInfo_with_gender_cleaned[GameInfo_with_gender_cleaned['gender'] == 'F']\n",
    "avg_games_per_set_men = GameInfo_Male_cleaned[\"game_id\"].mean()\n",
    "avg_games_per_set_women = GameInfo_Female_cleaned[\"game_id\"].mean()\n",
    "\n",
    "# Print the results\n",
    "print(f\"Average number of games per set in men's matches: {avg_games_per_set_men}\")\n",
    "print(f\"Average number of games per set in women's matches: {avg_games_per_set_women}\")"
   ]
  },
  {
   "cell_type": "code",
   "execution_count": 5,
   "metadata": {},
   "outputs": [
    {
     "name": "stdout",
     "output_type": "stream",
     "text": [
      "T-statistic: 7.739154137176257, p-value: 1.0681743235485147e-14\n",
      "Samples shows significant difference (reject H0)\n",
      "so there is significant difference between average number of games per set based on gender\n"
     ]
    }
   ],
   "source": [
    "import scipy.stats as stats\n",
    "\n",
    "t_statistic, p_value = stats.ttest_ind (GameInfo_Male_cleaned[\"game_id\"],\n",
    "                                        GameInfo_Female_cleaned[\"game_id\"])\n",
    "print(f\"T-statistic: {t_statistic}, p-value: {p_value}\")\n",
    "\n",
    "# Interpretation\n",
    "alpha = 0.05\n",
    "if p_value < alpha:\n",
    "    print ('Samples shows significant difference (reject H0)')\n",
    "    print ('so there is significant difference between average number of games per set based on gender')\n",
    "else:\n",
    "    print ( 'Samples dose not show significant difference  (fail to reject H0)')\n",
    "    print ('so there is not significant difference average between number of games per set based on gender')"
   ]
  }
 ],
 "metadata": {
  "kernelspec": {
   "display_name": "Python 3",
   "language": "python",
   "name": "python3"
  },
  "language_info": {
   "codemirror_mode": {
    "name": "ipython",
    "version": 3
   },
   "file_extension": ".py",
   "mimetype": "text/x-python",
   "name": "python",
   "nbconvert_exporter": "python",
   "pygments_lexer": "ipython3",
   "version": "3.12.3"
  }
 },
 "nbformat": 4,
 "nbformat_minor": 2
}
