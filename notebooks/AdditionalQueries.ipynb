{
 "cells": [
  {
   "cell_type": "markdown",
   "metadata": {},
   "source": [
    "# Query 1: What is the average prize money won by players in a season?"
   ]
  },
  {
   "cell_type": "code",
   "execution_count": 111,
   "metadata": {},
   "outputs": [
    {
     "name": "stdout",
     "output_type": "stream",
     "text": [
      "     Season  Average_Prize_Money\n",
      "0     52016             104859.0\n",
      "1     52017             143350.0\n",
      "2     55516             229486.0\n",
      "3     55518             138859.0\n",
      "4     55542             254456.0\n",
      "..      ...                  ...\n",
      "155   60791               1124.0\n",
      "156   60793                  0.0\n",
      "157   60938               1655.0\n",
      "158   60939               1513.0\n",
      "159   60941                618.0\n",
      "\n",
      "[160 rows x 2 columns]\n"
     ]
    }
   ],
   "source": [
    "import pandas as pd\n",
    "MatchHomeTeamInfo = pd.read_csv(r\"E:\\Data Analysis Course\\Data analyse\\tennis_data_analysis\\data\\raw\\MatchHomeTeamInfo.csv\")\n",
    "MatchAwayTeamInfo = pd.read_csv(r\"E:\\Data Analysis Course\\Data analyse\\tennis_data_analysis\\data\\raw\\MatchAwayTeamInfo.csv\")\n",
    "MatchSeasonInfo = pd.read_csv(r\"E:\\Data Analysis Course\\Data analyse\\tennis_data_analysis\\data\\raw\\MatchSeasonInfo.csv\")\n",
    "\n",
    "# Merge MatchHomeTeamInfo with MatchSeasonInfo on 'match_id'\n",
    "home_season_merged = pd.merge(MatchHomeTeamInfo, MatchSeasonInfo, on='match_id')\n",
    "\n",
    "# Merge MatchAwayTeamInfo with MatchSeasonInfo on 'match_id'\n",
    "away_season_merged = pd.merge(MatchAwayTeamInfo, MatchSeasonInfo, on='match_id')\n",
    "\n",
    "# Concatenate the merged DataFrames\n",
    "combined_df = pd.concat([home_season_merged[['current_prize', 'season_id']],\n",
    "                         away_season_merged[['current_prize', 'season_id']]], \n",
    "                        ignore_index=True).drop_duplicates(subset= \"season_id\")\n",
    "\n",
    "# Group by 'season_id' and calculate the average prize money\n",
    "average_prize_money = combined_df.groupby('season_id')['current_prize'].mean().reset_index()\n",
    "\n",
    "average_prize_money.columns = ['Season', 'Average_Prize_Money']\n",
    "\n",
    "print(average_prize_money)\n",
    "\n"
   ]
  },
  {
   "cell_type": "markdown",
   "metadata": {},
   "source": [
    "# 2.Which match had the highest number of aces by a single player?"
   ]
  },
  {
   "cell_type": "code",
   "execution_count": 25,
   "metadata": {},
   "outputs": [
    {
     "name": "stdout",
     "output_type": "stream",
     "text": [
      "Match with the highest number of aces by a single player: Match ID 12276774\n"
     ]
    }
   ],
   "source": [
    "PeriodInfo = pd.read_csv(r\"E:\\Data Analysis Course\\Data analyse\\tennis_data_analysis\\data\\raw\\PeriodInfo.csv\")\n",
    "max_aces_match = PeriodInfo[PeriodInfo['statistic_name'] == 'aces'].set_index('match_id')[['home_stat', 'away_stat']].max(axis=1).idxmax()\n",
    "print(f\"Match with the highest number of aces by a single player: Match ID {max_aces_match}\")"
   ]
  },
  {
   "cell_type": "markdown",
   "metadata": {},
   "source": [
    "# 3. What is the win/loss ratio of players against opponents from the same country?"
   ]
  },
  {
   "cell_type": "code",
   "execution_count": 110,
   "metadata": {},
   "outputs": [
    {
     "name": "stdout",
     "output_type": "stream",
     "text": [
      "Win/Loss ratio of players against opponents from the same country:\n",
      "      country_home  win_loss_ratio\n",
      "0        Argentina        0.933333\n",
      "1        Australia        4.000000\n",
      "2          Austria        1.000000\n",
      "3          Belgium        0.000000\n",
      "4           Brazil             inf\n",
      "5           Canada             inf\n",
      "6            Chile             inf\n",
      "7            China        0.729730\n",
      "8   Chinese Taipei        0.000000\n",
      "9         Colombia        1.000000\n",
      "10         Croatia        0.000000\n",
      "11  Czech Republic        0.750000\n",
      "12           Egypt             inf\n",
      "13          France        0.741935\n",
      "14         Germany        0.538462\n",
      "15           India        0.111111\n",
      "16          Israel             inf\n",
      "17           Italy        0.863636\n",
      "18           Japan        1.275000\n",
      "19      Kazakhstan        0.000000\n",
      "20          Mexico        1.000000\n",
      "21     Netherlands             inf\n",
      "22            Peru        0.000000\n",
      "23          Poland        0.000000\n",
      "24        Portugal        0.000000\n",
      "25         Romania        1.214286\n",
      "26          Russia        3.500000\n",
      "27          Serbia        1.000000\n",
      "28        Slovakia        0.000000\n",
      "29        Slovenia        0.000000\n",
      "30     South Korea        2.000000\n",
      "31           Spain        1.272727\n",
      "32          Sweden        2.000000\n",
      "33     Switzerland             inf\n",
      "34        Thailand        0.000000\n",
      "35          Turkey        0.500000\n",
      "36             USA        1.169811\n",
      "37         Ukraine        0.333333\n",
      "38  United Kingdom        0.083333\n"
     ]
    },
    {
     "name": "stderr",
     "output_type": "stream",
     "text": [
      "C:\\Users\\SilkRoadit.com\\AppData\\Local\\Temp\\ipykernel_25836\\1600514998.py:13: RuntimeWarning: divide by zero encountered in scalar divide\n",
      "  win_loss_ratio = same_country_matches.groupby('country_home')['winner_code'].apply(lambda x: (x == 1).sum() / (x == 2).sum()).reset_index(name='win_loss_ratio')\n"
     ]
    }
   ],
   "source": [
    "MatchEventInfo = pd.read_csv(r\"E:\\Data Analysis Course\\Data analyse\\tennis_data_analysis\\data\\raw\\MatchEventInfo.csv\")\n",
    "\n",
    "# Merge MatchEventInfo with MatchHomeTeamInfo and MatchAwayTeamInfo to get player IDs\n",
    "merged_df = MatchEventInfo[['match_id', 'winner_code']].merge(MatchHomeTeamInfo[['match_id', 'player_id' ,'country']], on='match_id', suffixes=('', '_home'))\n",
    "merged_df = merged_df.merge(MatchAwayTeamInfo[['match_id', 'player_id', 'country']], on='match_id', suffixes=('', '_away')).drop_duplicates(subset=\"match_id\")\n",
    "\n",
    "merged_df.rename(columns={'player_id': 'player_id_home', 'country': 'country_home'}, inplace=True)\n",
    "\n",
    "# Filter matches where players are from the same country\n",
    "same_country_matches = merged_df[merged_df['country_home'] == merged_df['country_away']]\n",
    "\n",
    "# Calculate win/loss ratio\n",
    "win_loss_ratio = same_country_matches.groupby('country_home')['winner_code'].apply(lambda x: (x == 1).sum() / (x == 2).sum()).reset_index(name='win_loss_ratio')\n",
    "max_win_loss_ratio = win_loss_ratio.max()\n",
    "max_win_loss_ratio_country = max_win_loss_ratio.iloc()\n",
    "\n",
    "print(\"Win/Loss ratio of players against opponents from the same country:\")\n",
    "print(win_loss_ratio)"
   ]
  },
  {
   "cell_type": "markdown",
   "metadata": {},
   "source": [
    "# 4. which country has participated in the ATP tournaments the most?"
   ]
  },
  {
   "cell_type": "code",
   "execution_count": 109,
   "metadata": {},
   "outputs": [
    {
     "name": "stdout",
     "output_type": "stream",
     "text": [
      "Country with the most ATP tournament participations: France (688 participations)\n"
     ]
    }
   ],
   "source": [
    "MatchTournamentInfo = pd.read_csv(r\"E:\\Data Analysis Course\\Data analyse\\tennis_data_analysis\\data\\raw\\MatchTournamentInfo.csv\")\n",
    "\n",
    "all_players = pd.concat([MatchHomeTeamInfo[['match_id', 'country']], MatchAwayTeamInfo[['match_id', 'country']]])\n",
    "all_players_tournaments = all_players.merge(MatchTournamentInfo[[\"match_id\" , \"tournament_category_name\"]], on='match_id' )\n",
    "\n",
    "participations_by_country_ATP = all_players_tournaments[all_players_tournaments[\"tournament_category_name\"] == \"ATP\"]\n",
    "\n",
    "participations_by_country = participations_by_country_ATP['country'].value_counts()\n",
    "\n",
    "# Get the country with the most participations\n",
    "most_participations_country = participations_by_country.idxmax()\n",
    "most_participations_count = participations_by_country.max()\n",
    "\n",
    "print(f\"Country with the most ATP tournament participations: {most_participations_country} ({most_participations_count} participations)\")"
   ]
  }
 ],
 "metadata": {
  "kernelspec": {
   "display_name": "Python 3",
   "language": "python",
   "name": "python3"
  },
  "language_info": {
   "codemirror_mode": {
    "name": "ipython",
    "version": 3
   },
   "file_extension": ".py",
   "mimetype": "text/x-python",
   "name": "python",
   "nbconvert_exporter": "python",
   "pygments_lexer": "ipython3",
   "version": "3.12.3"
  }
 },
 "nbformat": 4,
 "nbformat_minor": 2
}
