{
 "cells": [
  {
   "cell_type": "markdown",
   "metadata": {},
   "source": [
    "# Query 3: Calculate \"Win/Loss ratio of home players against opponents from the same country?"
   ]
  },
  {
   "cell_type": "code",
   "execution_count": 2,
   "metadata": {},
   "outputs": [
    {
     "name": "stdout",
     "output_type": "stream",
     "text": [
      "Win/Loss ratio of players against opponents from the same country:\n",
      "   country_home  win_loss_ratio\n",
      "0        Israel             inf\n",
      "1        Brazil             inf\n",
      "2        Canada             inf\n",
      "3         Chile             inf\n",
      "4         Egypt             inf\n",
      "5   Switzerland             inf\n",
      "6   Netherlands             inf\n",
      "7     Australia        4.000000\n",
      "8        Russia        3.500000\n",
      "9        Sweden        2.000000\n",
      "10  South Korea        2.000000\n",
      "11        Japan        1.275000\n",
      "12        Spain        1.272727\n",
      "13      Romania        1.214286\n",
      "14          USA        1.169811\n",
      "15       Mexico        1.000000\n",
      "16       Serbia        1.000000\n",
      "17      Austria        1.000000\n",
      "18     Colombia        1.000000\n",
      "19    Argentina        0.933333\n"
     ]
    },
    {
     "name": "stderr",
     "output_type": "stream",
     "text": [
      "C:\\Users\\SilkRoadit.com\\AppData\\Local\\Temp\\ipykernel_17660\\1818951146.py:18: RuntimeWarning: divide by zero encountered in scalar divide\n",
      "  win_loss_ratio = same_country_matches.groupby('country_home')['winner_code'].apply(lambda x: (x == 1).sum() / (x == 2).sum()).reset_index(name='win_loss_ratio')\n"
     ]
    }
   ],
   "source": [
    "import pandas as pd\n",
    "\n",
    "MatchAwayTeamInfo = pd.read_csv(r\"E:\\Data Analysis Course\\Data analyse\\tennis_data_analysis\\data\\raw\\MatchAwayTeamInfo.csv\")\n",
    "MatchHomeTeamInfo = pd.read_csv(r\"E:\\Data Analysis Course\\Data analyse\\tennis_data_analysis\\data\\raw\\MatchHomeTeamInfo.csv\")\n",
    "\n",
    "MatchEventInfo = pd.read_csv(r\"E:\\Data Analysis Course\\Data analyse\\tennis_data_analysis\\data\\raw\\MatchEventInfo.csv\")\n",
    "\n",
    "# Merge MatchEventInfo with MatchHomeTeamInfo and MatchAwayTeamInfo to get player IDs\n",
    "merged_df = MatchEventInfo[['match_id', 'winner_code']].merge(MatchHomeTeamInfo[['match_id', 'player_id' ,'country']], on='match_id', suffixes=('', '_home'))\n",
    "merged_df = merged_df.merge(MatchAwayTeamInfo[['match_id', 'player_id', 'country']], on='match_id', suffixes=('', '_away')).drop_duplicates(subset=\"match_id\")\n",
    "\n",
    "merged_df.rename(columns={'player_id': 'player_id_home', 'country': 'country_home'}, inplace=True)\n",
    "\n",
    "# Filter matches where players are from the same country\n",
    "same_country_matches = merged_df[merged_df['country_home'] == merged_df['country_away']]\n",
    "\n",
    "# Calculate win/loss ratio\n",
    "win_loss_ratio = same_country_matches.groupby('country_home')['winner_code'].apply(lambda x: (x == 1).sum() / (x == 2).sum()).reset_index(name='win_loss_ratio')\n",
    "max_win_loss_ratio = win_loss_ratio.max()\n",
    "max_win_loss_ratio_country = max_win_loss_ratio.iloc()\n",
    "win_loss_ratio_sorted = win_loss_ratio.sort_values(by='win_loss_ratio', ascending=False).reset_index(drop=True)\n",
    "\n",
    "print(\"Win/Loss ratio of players against opponents from the same country:\")\n",
    "print(win_loss_ratio_sorted.head(20))\n",
    "# print(win_loss_ratio_sorted.tail(19))\n",
    "\n",
    "# Count number of unique matches with same home and away country\n",
    "# num_unique_matches = same_country_matches['match_id'].nunique()\n",
    "# all_matches = merged_df ['match_id'].nunique()\n",
    "# print(f\"Number of unique matches where both home and away players are from the same country: {num_unique_matches}\")\n",
    "# print(f\"Number of all unique matches: {all_matches}\")"
   ]
  }
 ],
 "metadata": {
  "kernelspec": {
   "display_name": "Python 3",
   "language": "python",
   "name": "python3"
  },
  "language_info": {
   "codemirror_mode": {
    "name": "ipython",
    "version": 3
   },
   "file_extension": ".py",
   "mimetype": "text/x-python",
   "name": "python",
   "nbconvert_exporter": "python",
   "pygments_lexer": "ipython3",
   "version": "3.12.3"
  }
 },
 "nbformat": 4,
 "nbformat_minor": 2
}
