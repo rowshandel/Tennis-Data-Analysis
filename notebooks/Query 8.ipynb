{
 "cells": [
  {
   "cell_type": "markdown",
   "metadata": {},
   "source": [
    "# 8. Is there a difference in the number of double faults based on gender?"
   ]
  },
  {
   "cell_type": "code",
   "execution_count": 4,
   "metadata": {},
   "outputs": [
    {
     "name": "stdout",
     "output_type": "stream",
     "text": [
      "gender\n",
      "F    3.541608\n",
      "M    2.646076\n",
      "dtype: float64\n"
     ]
    }
   ],
   "source": [
    "import pandas as pd\n",
    "MatchHomeTeamInfo = pd.read_csv(r\"E:\\Data Analysis Course\\Data analyse\\tennis_data_analysis\\data\\raw\\MatchHomeTeamInfo.csv\")\n",
    "MatchAwayTeamInfo = pd.read_csv(r\"E:\\Data Analysis Course\\Data analyse\\tennis_data_analysis\\data\\raw\\MatchAwayTeamInfo.csv\")\n",
    "\n",
    "PeriodInfo = pd.read_csv(r\"E:\\Data Analysis Course\\Data analyse\\tennis_data_analysis\\data\\raw\\PeriodInfo.csv\")\n",
    "\n",
    "# Filter rows where the statistic_name is \"double_faults\"\n",
    "double_faults_data = PeriodInfo[(PeriodInfo['statistic_name'] == 'double_faults') & (PeriodInfo['period'] == 'ALL')]\n",
    "\n",
    "# Merge with MatchHomeTeamInfo to get home team gender and double faults\n",
    "home_merged = pd.merge(double_faults_data, MatchHomeTeamInfo[['match_id', 'gender' , 'player_id']], on='match_id').drop_duplicates(subset='match_id')\n",
    "home_double_faults = home_merged[['gender', 'home_stat','player_id']].rename(columns={'home_stat': 'double_faults'})\n",
    "\n",
    "# Merge with MatchAwayTeamInfo to get away team gender and double faults\n",
    "away_merged = pd.merge(double_faults_data, MatchAwayTeamInfo[['match_id', 'gender','player_id']], on='match_id').drop_duplicates(subset='match_id')\n",
    "away_double_faults = away_merged[['gender', 'away_stat','player_id']].rename(columns={'away_stat': 'double_faults'})\n",
    "\n",
    "# Combine home and away double faults\n",
    "combined_double_faults = pd.concat([home_double_faults, away_double_faults])\n",
    "\n",
    "# Convert double_faults to numeric\n",
    "combined_double_faults['double_faults'] = pd.to_numeric(combined_double_faults['double_faults'])\n",
    "\n",
    "# Group by gender and calculate the total number of double faults\n",
    "double_faults_by_gender = combined_double_faults.groupby('gender')['double_faults'].sum()\n",
    "\n",
    "# Calculate total number of females and males\n",
    "gender_counts = combined_double_faults['gender'].value_counts()\n",
    "\n",
    "# Calculate the ratio of double faults to the total count for each gender\n",
    "ratios = double_faults_by_gender / gender_counts\n",
    "\n",
    "print(ratios)\n"
   ]
  },
  {
   "cell_type": "code",
   "execution_count": 5,
   "metadata": {},
   "outputs": [
    {
     "name": "stdout",
     "output_type": "stream",
     "text": [
      "T-statistic: -18.598815378195127, p-value: 4.3727670450299826e-76\n",
      "Samples shows significant difference (reject H0)\n",
      "so there is significant difference the number of double faults based on gender\n"
     ]
    }
   ],
   "source": [
    "import scipy.stats as stats\n",
    "\n",
    "male_combined_double_faults = combined_double_faults[combined_double_faults['gender'] == 'M']\n",
    "female_combined_double_faults = combined_double_faults[combined_double_faults['gender'] == 'F']\n",
    "\n",
    "t_statistic, p_value = stats.ttest_ind (male_combined_double_faults['double_faults'],\n",
    "                                        female_combined_double_faults['double_faults'])\n",
    "print(f\"T-statistic: {t_statistic}, p-value: {p_value}\")\n",
    "\n",
    "# Interpretation\n",
    "alpha = 0.05\n",
    "if p_value < alpha:\n",
    "    print ('Samples shows significant difference (reject H0)')\n",
    "    print ('so there is significant difference the number of double faults based on gender')\n",
    "else:\n",
    "    print ( 'Samples dose not show significant difference  (fail to reject H0)')\n",
    "    print ('so there is not significant difference the number of double faults based on gender')"
   ]
  }
 ],
 "metadata": {
  "kernelspec": {
   "display_name": "Python 3",
   "language": "python",
   "name": "python3"
  },
  "language_info": {
   "codemirror_mode": {
    "name": "ipython",
    "version": 3
   },
   "file_extension": ".py",
   "mimetype": "text/x-python",
   "name": "python",
   "nbconvert_exporter": "python",
   "pygments_lexer": "ipython3",
   "version": "3.12.3"
  }
 },
 "nbformat": 4,
 "nbformat_minor": 2
}
