{
 "cells": [
  {
   "cell_type": "markdown",
   "metadata": {},
   "source": [
    "# 16. Which player has the highest winning percentage against top 10 ranked opponents?"
   ]
  },
  {
   "cell_type": "code",
   "execution_count": 2,
   "metadata": {},
   "outputs": [
    {
     "name": "stdout",
     "output_type": "stream",
     "text": [
      "Winner ID with the maximum percentage of top wins: 14486.0\n",
      "Maximum percentage of top wins: 50.00%\n"
     ]
    }
   ],
   "source": [
    "import pandas as pd\n",
    "\n",
    "MatchHomeTeamInfo = pd.read_csv(r\"E:\\Data Analysis Course\\Data analyse\\tennis_data_analysis\\data\\raw\\MatchHomeTeamInfo.csv\")\n",
    "MatchAwayTeamInfo = pd.read_csv(r\"E:\\Data Analysis Course\\Data analyse\\tennis_data_analysis\\data\\raw\\MatchAwayTeamInfo.csv\")\n",
    "MatchEventInfo = pd.read_csv(r\"E:\\Data Analysis Course\\Data analyse\\tennis_data_analysis\\data\\raw\\MatchEventInfo.csv\")\n",
    "\n",
    "# Merge MatchEventInfo with MatchHomeTeamInfo and MatchAwayTeamInfo to get player IDs\n",
    "merged = MatchEventInfo[['match_id', 'winner_code']].merge(MatchHomeTeamInfo[['match_id', 'player_id' , 'current_rank']], on='match_id', suffixes=('', '_home'))\n",
    "merged = merged.merge(MatchAwayTeamInfo[['match_id', 'player_id' , 'current_rank']], on='match_id', suffixes=('', '_away')).drop_duplicates(subset=\"match_id\")\n",
    "\n",
    "# Map winner_code to actual player_id\n",
    "merged['winner_id'] = merged.apply(\n",
    "    lambda row: row['player_id'] if row['winner_code'] == 1.0 else row['player_id_away'], \n",
    "    axis=1\n",
    ")\n",
    "\n",
    "merged['loser_id'] = merged.apply(\n",
    "    lambda row: row['player_id_away'] if row['winner_code'] == 1.0 else row['player_id'], \n",
    "    axis=1\n",
    ")\n",
    "merged['loser_rank'] = merged.apply(\n",
    "    lambda row: row['current_rank_away'] if row['winner_code'] == 1.0 else row['current_rank'], \n",
    "    axis=1\n",
    ")\n",
    "\n",
    "total_wins = merged.groupby('winner_id' , as_index=False)[\"match_id\"].count()\n",
    "total_wins = total_wins.rename(columns={'match_id': 'total_wins'})\n",
    "\n",
    "merged_top_10 = merged[(merged['loser_rank'] <= 10)]\n",
    "\n",
    "top_wins = merged_top_10.groupby('winner_id' , as_index=False)[\"match_id\"].count()\n",
    "top_wins = top_wins.rename(columns={'match_id': 'top_wins'})\n",
    "\n",
    "merge_total_top = pd.merge(total_wins, top_wins, on='winner_id', how='inner')\n",
    "\n",
    "merge_total_top['top_win_percentage'] = (merge_total_top['top_wins'] / merge_total_top['total_wins']) * 100\n",
    "\n",
    "# Find the winner_id with the max percentage of top wins\n",
    "max_percentage_winner_id = merge_total_top.loc[merge_total_top['top_win_percentage'].idxmax(), 'winner_id']\n",
    "max_percentage = merge_total_top['top_win_percentage'].max()\n",
    "\n",
    "print(f\"Winner ID with the maximum percentage of top wins: {max_percentage_winner_id}\")\n",
    "print(f\"Maximum percentage of top wins: {max_percentage:.2f}%\")\n"
   ]
  }
 ],
 "metadata": {
  "kernelspec": {
   "display_name": "Python 3",
   "language": "python",
   "name": "python3"
  },
  "language_info": {
   "codemirror_mode": {
    "name": "ipython",
    "version": 3
   },
   "file_extension": ".py",
   "mimetype": "text/x-python",
   "name": "python",
   "nbconvert_exporter": "python",
   "pygments_lexer": "ipython3",
   "version": "3.12.3"
  }
 },
 "nbformat": 4,
 "nbformat_minor": 2
}
